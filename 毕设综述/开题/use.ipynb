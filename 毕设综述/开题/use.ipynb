{
 "cells": [
  {
   "cell_type": "code",
   "execution_count": 10,
   "metadata": {},
   "outputs": [
    {
     "name": "stdout",
     "output_type": "stream",
     "text": [
      "PPT已保存至 ./2021251124古翱翔开题.pptx\n"
     ]
    }
   ],
   "source": [
    "import fitz  # PyMuPDF\n",
    "from pptx import Presentation\n",
    "from pptx.util import Inches\n",
    "from PIL import Image\n",
    "import io\n",
    "\n",
    "def pdf_to_images(pdf_path, dpi=150):\n",
    "    \"\"\"将PDF转换为图片，每一页作为一张图片\"\"\"\n",
    "    doc = fitz.open(pdf_path)\n",
    "    images = []\n",
    "    \n",
    "    for page_num in range(doc.page_count):\n",
    "        page = doc.load_page(page_num)\n",
    "        \n",
    "        # 获取图片，dpi越高，图像分辨率越高\n",
    "        pix = page.get_pixmap(dpi=dpi)\n",
    "        \n",
    "        # 将Pixmap转换为PIL Image\n",
    "        img = Image.open(io.BytesIO(pix.tobytes()))\n",
    "        images.append((img, pix.width, pix.height))  # 保存图像及其原始宽高\n",
    "    \n",
    "    return images\n",
    "\n",
    "def images_to_ppt(images, ppt_path):\n",
    "    \"\"\"将图片列表按比例插入到16:9比例的PPT中\"\"\"\n",
    "    prs = Presentation()\n",
    "    \n",
    "    # 设置幻灯片为16:9比例，常见分辨率为1920x1080\n",
    "    prs.slide_width = Inches(16)\n",
    "    prs.slide_height = Inches(9)\n",
    "\n",
    "    slide_width = prs.slide_width  # 幻灯片宽度\n",
    "    slide_height = prs.slide_height  # 幻灯片高度\n",
    "    \n",
    "    for img, img_width, img_height in images:\n",
    "        slide = prs.slides.add_slide(prs.slide_layouts[5])  # 使用空白幻灯片\n",
    "        \n",
    "        # 计算比例，保持图片比例适配PPT页面\n",
    "        width_ratio = slide_width / img_width\n",
    "        height_ratio = slide_height / img_height\n",
    "        scale = min(width_ratio, height_ratio)\n",
    "        \n",
    "        # 按比例调整图片大小\n",
    "        new_width = img_width * scale\n",
    "        new_height = img_height * scale\n",
    "        \n",
    "        # 居中显示图片\n",
    "        left = (slide_width - new_width) / 2\n",
    "        top = (slide_height - new_height) / 2\n",
    "        \n",
    "        # 保存图片到字节流\n",
    "        img_byte_arr = io.BytesIO()\n",
    "        img.save(img_byte_arr, format='PNG')\n",
    "        img_byte_arr.seek(0)\n",
    "        \n",
    "        # 插入图片到PPT\n",
    "        slide.shapes.add_picture(img_byte_arr, left, top, width=new_width, height=new_height)\n",
    "    \n",
    "    prs.save(ppt_path)\n",
    "    print(f\"PPT已保存至 {ppt_path}\")\n",
    "\n",
    "def pdf_to_ppt(pdf_path, ppt_path, dpi=150):\n",
    "    \"\"\"从PDF文件生成PPT文件\"\"\"\n",
    "    images = pdf_to_images(pdf_path, dpi)\n",
    "    images_to_ppt(images, ppt_path)\n",
    "\n",
    "# 使用示例\n",
    "pdf_path = './开题.pdf'  # 输入PDF文件路径\n",
    "ppt_path = './2021251124古翱翔开题.pptx'    # 输出PPT文件路径\n",
    "dpi = 600  # 设置较高的dpi值以确保图像清晰度\n",
    "\n",
    "pdf_to_ppt(pdf_path, ppt_path, dpi)\n"
   ]
  }
 ],
 "metadata": {
  "kernelspec": {
   "display_name": "bishe",
   "language": "python",
   "name": "python3"
  },
  "language_info": {
   "codemirror_mode": {
    "name": "ipython",
    "version": 3
   },
   "file_extension": ".py",
   "mimetype": "text/x-python",
   "name": "python",
   "nbconvert_exporter": "python",
   "pygments_lexer": "ipython3",
   "version": "3.11.10"
  }
 },
 "nbformat": 4,
 "nbformat_minor": 2
}
