{
 "cells": [
  {
   "cell_type": "markdown",
   "metadata": {},
   "source": [
    "<!-- ./jupyter2typst.exe .\\numpy.ipynb -o ./numpy -->"
   ]
  },
  {
   "cell_type": "markdown",
   "metadata": {},
   "source": [
    "# numpy Learn\n",
    "## basic\n",
    "### 1.创建数组"
   ]
  },
  {
   "cell_type": "code",
   "execution_count": 2,
   "metadata": {},
   "outputs": [],
   "source": [
    "import numpy as np\n",
    "import numpy.matlib as matlib"
   ]
  },
  {
   "cell_type": "markdown",
   "metadata": {},
   "source": [
    "#### 将 Python 序列转换为 NumPy 数组 "
   ]
  },
  {
   "cell_type": "code",
   "execution_count": 3,
   "metadata": {},
   "outputs": [],
   "source": [
    "a=np.array([1,2,3])\n",
    "b=np.array([[1,1,1],[1,1,2]])"
   ]
  },
  {
   "cell_type": "markdown",
   "metadata": {},
   "source": [
    "##### 使用numpy内部函数"
   ]
  },
  {
   "cell_type": "code",
   "execution_count": 4,
   "metadata": {},
   "outputs": [
    {
     "name": "stdout",
     "output_type": "stream",
     "text": [
      "np.arange(1,10)= [1 2 3 4 5 6 7 8 9]\n",
      "np.arange(1,10,dtype=float)= [1. 2. 3. 4. 5. 6. 7. 8. 9.]\n",
      "np.eye(2)=\n",
      " [[1. 0.]\n",
      " [0. 1.]]\n",
      "np.eye(2,3)=\n",
      " [[1. 0. 0.]\n",
      " [0. 1. 0.]]\n",
      "np.zeros((2,3))=\n",
      " [[0. 0. 0.]\n",
      " [0. 0. 0.]]\n",
      "np.ones((2,3))=\n",
      " [[1. 1. 1.]\n",
      " [1. 1. 1.]]\n",
      "default_rng(42).random((2,3))=\n",
      " [[0.77395605 0.43887844 0.85859792]\n",
      " [0.69736803 0.09417735 0.97562235]]\n"
     ]
    }
   ],
   "source": [
    "# arange\n",
    "print(\"np.arange(1,10)=\",np.arange(1,10))\n",
    "print(\"np.arange(1,10,dtype=float)=\",np.arange(1,10,dtype=float))\n",
    "# eye\n",
    "print(\"np.eye(2)=\\n\",np.eye(2))\n",
    "print(\"np.eye(2,3)=\\n\",np.eye(2,3))\n",
    "# zeros\n",
    "print(\"np.zeros((2,3))=\\n\",np.zeros((2,3)))\n",
    "# ones\n",
    "print(\"np.ones((2,3))=\\n\",np.ones((2,3)))\n",
    "\n",
    "from numpy.random import default_rng\n",
    "print(\"default_rng(42).random((2,3))=\\n\", default_rng(42).random((2,3)))"
   ]
  },
  {
   "cell_type": "code",
   "execution_count": 5,
   "metadata": {},
   "outputs": [
    {
     "name": "stdout",
     "output_type": "stream",
     "text": [
      "np.diag([1,2])=\n",
      " [[1 0]\n",
      " [0 2]]\n",
      "np.diag([1,2])=\n",
      " [[0 1 0 0]\n",
      " [0 0 2 0]\n",
      " [0 0 0 1]\n",
      " [0 0 0 0]]\n",
      "np.diag(np.diag([1,2,3]))= [1 2 3]\n"
     ]
    }
   ],
   "source": [
    "#diag \n",
    "print(\"np.diag([1,2])=\\n\",np.diag([1,2]))\n",
    "print(\"np.diag([1,2])=\\n\",np.diag([1,2,1],1)) # 1 is the diagonal offset <0 is below, >0 is above\n",
    "print(\"np.diag(np.diag([1,2,3]))=\",np.diag(np.diag([1,2,3]))) #diag 也可以用来对角化矩阵，比如这里对角化一个向量"
   ]
  },
  {
   "cell_type": "markdown",
   "metadata": {},
   "source": [
    "np.vander(x,N) 生成一个Vandermonde矩阵，x是输入的向量，N是矩阵的列数\n",
    "$V_i=x^{(n-i)}$"
   ]
  },
  {
   "cell_type": "code",
   "execution_count": 6,
   "metadata": {},
   "outputs": [
    {
     "name": "stdout",
     "output_type": "stream",
     "text": [
      "np.vander([1,2,3],3)=\n",
      " [[1 1 1]\n",
      " [4 2 1]\n",
      " [9 3 1]]\n"
     ]
    }
   ],
   "source": [
    "print(\"np.vander([1,2,3],3)=\\n\",np.vander([1,2,3],3))"
   ]
  },
  {
   "cell_type": "markdown",
   "metadata": {},
   "source": [
    "####  复制、连接或更改现有数组"
   ]
  },
  {
   "cell_type": "code",
   "execution_count": 7,
   "metadata": {},
   "outputs": [
    {
     "name": "stdout",
     "output_type": "stream",
     "text": [
      "[1 2]\n",
      "[3 4 5 6]\n",
      "np.block([[A,B],[C,A]])=\n",
      " [[1.  1.  0.8 0.4]\n",
      " [1.  1.  0.9 0.7]\n",
      " [1.  0.  1.  1. ]\n",
      " [0.  1.  1.  1. ]]\n"
     ]
    }
   ],
   "source": [
    "a = np.array([1, 2, 3, 4, 5, 6])\n",
    "print(a[:2]) # [1 2]\n",
    "print(a[2:]) # [3 4 5 6] \n",
    "\n",
    "A=np.ones((2,2))\n",
    "B = np.round(default_rng(42).random((2, 2)), 1)\n",
    "C=np.eye(2)\n",
    "S=np.block([[A,B],[C,A]])\n",
    "print(\"np.block([[A,B],[C,A]])=\\n\",S)"
   ]
  },
  {
   "cell_type": "markdown",
   "metadata": {},
   "source": [
    "### 索引"
   ]
  },
  {
   "cell_type": "code",
   "execution_count": 8,
   "metadata": {},
   "outputs": [
    {
     "name": "stdout",
     "output_type": "stream",
     "text": [
      "a[0,0]= 1 1\n",
      "x[[0, 1, 2], [0, 1, 0]]= [1 4 5]\n",
      "a= [[1 3 5 7]\n",
      " [2 4 6 8]]\n",
      "a[0,:] [3 5]\n"
     ]
    }
   ],
   "source": [
    "a=np.array([[1,3,5,7],[2,4,6,8]])\n",
    "print(\"a[0,0]=\",a[0,0],a[0][0])\n",
    "\n",
    "x = np.array([[1, 2], [3, 4], [5, 6]])\n",
    "print(\"x[[0, 1, 2], [0, 1, 0]]=\",x[[0, 1, 2], [0, 1, 0]])\n",
    "\n",
    "\n",
    "print(\"a=\",a)\n",
    "print(\"a[0,:]\",a[0,1:3]) # [1,3)\n"
   ]
  },
  {
   "cell_type": "code",
   "execution_count": 9,
   "metadata": {},
   "outputs": [
    {
     "data": {
      "text/plain": [
       "matrix([[0.85715754, 0.20266713, 0.68908141],\n",
       "        [0.63955354, 0.05736903, 0.81907323],\n",
       "        [0.39837432, 0.47764014, 0.60438094]])"
      ]
     },
     "execution_count": 9,
     "metadata": {},
     "output_type": "execute_result"
    }
   ],
   "source": [
    "np.identity(5) # 5x5 identity matrix\n",
    "matlib.rand(3,3) # 3x3 random matrix"
   ]
  },
  {
   "cell_type": "markdown",
   "metadata": {},
   "source": [
    "### 数学运算\n"
   ]
  },
  {
   "cell_type": "code",
   "execution_count": 10,
   "metadata": {},
   "outputs": [
    {
     "data": {
      "text/plain": [
       "12"
      ]
     },
     "execution_count": 10,
     "metadata": {},
     "output_type": "execute_result"
    }
   ],
   "source": [
    "a=np.array([1,2,3])\n",
    "b=np.array([2,2,2])\n",
    "np.dot(a,b)"
   ]
  },
  {
   "cell_type": "markdown",
   "metadata": {},
   "source": [
    "#### linalg"
   ]
  },
  {
   "cell_type": "code",
   "execution_count": 11,
   "metadata": {},
   "outputs": [
    {
     "name": "stdout",
     "output_type": "stream",
     "text": [
      "QR=\n",
      " (array([[-0.31622777, -0.9486833 ],\n",
      "       [-0.9486833 ,  0.31622777]]), array([[-3.16227766, -4.42718872],\n",
      "       [ 0.        , -0.63245553]]))\n",
      "SVD=\n",
      " (array([[-0.40455358, -0.9145143 ],\n",
      "       [-0.9145143 ,  0.40455358]]), array([5.4649857 , 0.36596619]), array([[-0.57604844, -0.81741556],\n",
      "       [ 0.81741556, -0.57604844]]))\n"
     ]
    }
   ],
   "source": [
    "print(\"QR=\\n\",np.linalg.qr(np.array([[1,2],[3,4]])))\n",
    "\n",
    "print(\"SVD=\\n\",np.linalg.svd(np.array([[1,2],[3,4]])))\n"
   ]
  },
  {
   "cell_type": "code",
   "execution_count": 12,
   "metadata": {},
   "outputs": [
    {
     "name": "stdout",
     "output_type": "stream",
     "text": [
      "eig=\n",
      " (array([-0.37228132,  5.37228132]), array([[-0.82456484, -0.41597356],\n",
      "       [ 0.56576746, -0.90937671]]))\n",
      "eigvals=\n",
      " [-0.37228132  5.37228132]\n",
      "norm=\n",
      " 3.7416573867739413\n",
      "matrix_rank=\n",
      " 3\n",
      "inv=\n",
      " [[-2.   1. ]\n",
      " [ 1.5 -0.5]]\n",
      "pinv=\n",
      " [[-1.5         0.5         1.        ]\n",
      " [ 1.16666667 -0.16666667 -0.66666667]]\n",
      "m= 0.9999999999999997 c= -0.949999999999999\n"
     ]
    }
   ],
   "source": [
    "# eig\n",
    "print(\"eig=\\n\",np.linalg.eig(np.array([[1,2],[3,4]]))) # 特征值和特征向量\n",
    "print(\"eigvals=\\n\",np.linalg.eigvals(np.array([[1,2],[3,4]])))\n",
    "\n",
    "# norm \n",
    "print(\"norm=\\n\",np.linalg.norm(np.array([1,2,3])))\n",
    "\n",
    "# matrix_rank\n",
    "print(\"matrix_rank=\\n\",np.linalg.matrix_rank(np.array([[1,0,0],[1,1,0],[0,1,1]])))\n",
    "\n",
    "#inv/pinv\n",
    "print(\"inv=\\n\",np.linalg.inv(np.array([[1,2],[3,4]])))\n",
    "print(\"pinv=\\n\",np.linalg.pinv(np.array([[1,2],[3,4],[1,1]])))\n",
    "\n",
    "#lstsq 线性最小二乘解\n",
    "x = np.array([0, 1, 2, 3])\n",
    "y = np.array([-1, 0.2, 0.9, 2.1])\n",
    "A = np.vstack([x, np.ones(len(x))]).T\n",
    "m, c = np.linalg.lstsq(A, y, rcond=None)[0]\n",
    "print(\"m=\",m,\"c=\",c)"
   ]
  },
  {
   "cell_type": "markdown",
   "metadata": {},
   "source": [
    "# Sympy Learn"
   ]
  },
  {
   "cell_type": "code",
   "execution_count": 13,
   "metadata": {},
   "outputs": [],
   "source": [
    "import sympy as sp"
   ]
  },
  {
   "cell_type": "markdown",
   "metadata": {},
   "source": [
    "定义变量"
   ]
  },
  {
   "cell_type": "code",
   "execution_count": 14,
   "metadata": {},
   "outputs": [
    {
     "data": {
      "text/latex": [
       "$\\displaystyle x^{2} - 2 x x_{0} + x_{0}^{2} + y^{2} - 2 y y_{0} + y_{0}^{2} + z^{2} - 2 z z_{0} + z_{0}^{2}$"
      ],
      "text/plain": [
       "x**2 - 2*x*x0 + x0**2 + y**2 - 2*y*y0 + y0**2 + z**2 - 2*z*z0 + z0**2"
      ]
     },
     "execution_count": 14,
     "metadata": {},
     "output_type": "execute_result"
    }
   ],
   "source": [
    "x,y,z,x0,y0,z0=sp.symbols('x y z x0 y0 z0')\n",
    "sp.expand((x-x0)**2+(y-y0)**2+(z-z0)**2)"
   ]
  },
  {
   "cell_type": "markdown",
   "metadata": {},
   "source": [
    "dervervate of $\\sin (x) e^x$"
   ]
  },
  {
   "cell_type": "code",
   "execution_count": 15,
   "metadata": {},
   "outputs": [
    {
     "data": {
      "text/latex": [
       "$\\displaystyle 2 x e^{x^{2}}$"
      ],
      "text/plain": [
       "2*x*exp(x**2)"
      ]
     },
     "execution_count": 15,
     "metadata": {},
     "output_type": "execute_result"
    }
   ],
   "source": [
    "sp.diff(sp.exp(x**2),x)"
   ]
  },
  {
   "cell_type": "markdown",
   "metadata": {},
   "source": [
    "compute $ \\int_{-\\infty}^{+\\infty} \\sin (x^2)\\mathrm{d}x $"
   ]
  },
  {
   "cell_type": "code",
   "execution_count": 16,
   "metadata": {},
   "outputs": [
    {
     "data": {
      "text/latex": [
       "$\\displaystyle \\frac{\\sqrt{2} \\sqrt{\\pi}}{2}$"
      ],
      "text/plain": [
       "sqrt(2)*sqrt(pi)/2"
      ]
     },
     "execution_count": 16,
     "metadata": {},
     "output_type": "execute_result"
    }
   ],
   "source": [
    "from sympy import oo\n",
    "sp.integrate(sp.sin(x**2), (x, -oo, +oo))"
   ]
  },
  {
   "cell_type": "code",
   "execution_count": 17,
   "metadata": {},
   "outputs": [
    {
     "data": {
      "text/latex": [
       "$\\displaystyle 1$"
      ],
      "text/plain": [
       "1"
      ]
     },
     "execution_count": 17,
     "metadata": {},
     "output_type": "execute_result"
    }
   ],
   "source": [
    "sp.limit(sp.sin(x)/x, x, 0)"
   ]
  },
  {
   "cell_type": "code",
   "execution_count": 18,
   "metadata": {},
   "outputs": [
    {
     "data": {
      "text/latex": [
       "$\\displaystyle 1 - \\sqrt[3]{5}$"
      ],
      "text/plain": [
       "1 - 5**(1/3)"
      ]
     },
     "execution_count": 18,
     "metadata": {},
     "output_type": "execute_result"
    }
   ],
   "source": [
    "sp.solve(x**3-3*x**2+3*x+4,x)[0]"
   ]
  },
  {
   "cell_type": "markdown",
   "metadata": {},
   "source": [
    "求解微分方程"
   ]
  },
  {
   "cell_type": "code",
   "execution_count": 19,
   "metadata": {},
   "outputs": [
    {
     "data": {
      "text/latex": [
       "$\\displaystyle y{\\left(x \\right)} = C_{1} e^{- x} + C_{2} e^{x}$"
      ],
      "text/plain": [
       "Eq(y(x), C1*exp(-x) + C2*exp(x))"
      ]
     },
     "execution_count": 19,
     "metadata": {},
     "output_type": "execute_result"
    }
   ],
   "source": [
    "y=sp.Function('y')\n",
    "eq=sp.Eq(y(x).diff(x,x)-y(x),0)\n",
    "sp.dsolve(eq,y(x))"
   ]
  },
  {
   "cell_type": "code",
   "execution_count": 20,
   "metadata": {},
   "outputs": [
    {
     "data": {
      "text/latex": [
       "$\\displaystyle x^{2} y - 2 x^{2} - 4 x - 9 y + 24$"
      ],
      "text/plain": [
       "x**2*y - 2*x**2 - 4*x - 9*y + 24"
      ]
     },
     "execution_count": 20,
     "metadata": {},
     "output_type": "execute_result"
    }
   ],
   "source": [
    "# Define x and y as symbols\n",
    "x, y = sp.symbols('x y')\n",
    "sp.Matrix([[x, y,4], [3, 4,x],[x,2,3]]).det()\n"
   ]
  },
  {
   "cell_type": "markdown",
   "metadata": {},
   "source": [
    "#### Eq"
   ]
  },
  {
   "cell_type": "code",
   "execution_count": 21,
   "metadata": {},
   "outputs": [
    {
     "name": "stdout",
     "output_type": "stream",
     "text": [
      "False\n",
      "Eq(x + 1, 4)\n"
     ]
    }
   ],
   "source": [
    "print(x+1==4)\n",
    "print(sp.Eq(x+1,4))\n"
   ]
  },
  {
   "cell_type": "markdown",
   "metadata": {},
   "source": [
    "#### simplify"
   ]
  },
  {
   "cell_type": "code",
   "execution_count": 22,
   "metadata": {},
   "outputs": [
    {
     "data": {
      "text/latex": [
       "$\\displaystyle 0$"
      ],
      "text/plain": [
       "0"
      ]
     },
     "execution_count": 22,
     "metadata": {},
     "output_type": "execute_result"
    }
   ],
   "source": [
    "sp.simplify((x+1)**2-(x**2+2*x+1))"
   ]
  },
  {
   "cell_type": "markdown",
   "metadata": {},
   "source": [
    "#### 逻辑\n"
   ]
  },
  {
   "cell_type": "code",
   "execution_count": 23,
   "metadata": {},
   "outputs": [
    {
     "data": {
      "text/latex": [
       "$\\displaystyle \\text{True}$"
      ],
      "text/plain": [
       "True"
      ]
     },
     "execution_count": 23,
     "metadata": {},
     "output_type": "execute_result"
    }
   ],
   "source": [
    "True ^ False # True | False\n",
    "sp.Xor(True,False)"
   ]
  },
  {
   "cell_type": "code",
   "execution_count": 24,
   "metadata": {},
   "outputs": [
    {
     "name": "stdout",
     "output_type": "stream",
     "text": [
      "[ 0.69883132 -0.82544426 -0.79777917  0.35315887  1.44258646  1.40625245\n",
      "  0.2397728  -1.00985828 -1.21213764]\n"
     ]
    }
   ],
   "source": [
    "expr=sp.diff(sp.sin(x)+sp.cos(x)+sp.ln(x),x)\n",
    "x_=np.arange(1,10)\n",
    "f=sp.lambdify(x,expr,\"numpy\")\n",
    "print(f(x_))"
   ]
  },
  {
   "cell_type": "code",
   "execution_count": 25,
   "metadata": {},
   "outputs": [
    {
     "name": "stdout",
     "output_type": "stream",
     "text": [
      "Matrix([[1, 2], [2, 3], [4, 7]]) Matrix([[1, 2, 4], [2, 3, 7]])\n"
     ]
    },
    {
     "data": {
      "text/latex": [
       "$\\displaystyle \\left[\\begin{matrix}- \\frac{5}{3} & \\frac{8}{3} & - \\frac{2}{3}\\\\1 & - \\frac{3}{2} & \\frac{1}{2}\\end{matrix}\\right]$"
      ],
      "text/plain": [
       "Matrix([\n",
       "[-5/3,  8/3, -2/3],\n",
       "[   1, -3/2,  1/2]])"
      ]
     },
     "execution_count": 25,
     "metadata": {},
     "output_type": "execute_result"
    }
   ],
   "source": [
    "m=sp.Matrix([[1,2],[2,3],[4,7]])\n",
    "print(m,m.T)\n",
    "m.pinv()"
   ]
  },
  {
   "cell_type": "code",
   "execution_count": 26,
   "metadata": {},
   "outputs": [
    {
     "data": {
      "text/latex": [
       "$\\displaystyle \\left[\\begin{matrix}1 & 0\\\\0 & 1\\\\0 & 0\\end{matrix}\\right]$"
      ],
      "text/plain": [
       "Matrix([\n",
       "[1, 0],\n",
       "[0, 1],\n",
       "[0, 0]])"
      ]
     },
     "execution_count": 26,
     "metadata": {},
     "output_type": "execute_result"
    }
   ],
   "source": [
    "m.rref()[0]"
   ]
  },
  {
   "cell_type": "code",
   "execution_count": 27,
   "metadata": {},
   "outputs": [
    {
     "data": {
      "text/latex": [
       "$\\displaystyle \\left[\\begin{matrix}1 & 0 & 0 & 4 & -3 & 2\\\\0 & 1 & 0 & 0 & -1 & 1\\\\0 & 0 & 1 & - \\frac{3}{2} & 2 & - \\frac{3}{2}\\end{matrix}\\right]$"
      ],
      "text/plain": [
       "Matrix([\n",
       "[1, 0, 0,    4, -3,    2],\n",
       "[0, 1, 0,    0, -1,    1],\n",
       "[0, 0, 1, -3/2,  2, -3/2]])"
      ]
     },
     "metadata": {},
     "output_type": "display_data"
    }
   ],
   "source": [
    "m=sp.diag(sp.Matrix([[1,1,2],[3,6,8],[3,7,8]]))\n",
    "# display(sp.Matrix(m,sp.eye(3)))\n",
    "m = sp.Matrix.hstack(m, sp.eye(3))\n",
    "display(m.rref()[0])"
   ]
  },
  {
   "cell_type": "code",
   "execution_count": 28,
   "metadata": {},
   "outputs": [
    {
     "data": {
      "text/latex": [
       "$\\displaystyle \\left[\\begin{matrix}- \\frac{4}{3}\\\\- \\frac{2}{3}\\\\1\\end{matrix}\\right]$"
      ],
      "text/plain": [
       "Matrix([\n",
       "[-4/3],\n",
       "[-2/3],\n",
       "[   1]])"
      ]
     },
     "metadata": {},
     "output_type": "display_data"
    },
    {
     "data": {
      "text/latex": [
       "$\\displaystyle \\left[\\begin{matrix}1\\\\3\\\\2\\end{matrix}\\right]$"
      ],
      "text/plain": [
       "Matrix([\n",
       "[1],\n",
       "[3],\n",
       "[2]])"
      ]
     },
     "metadata": {},
     "output_type": "display_data"
    }
   ],
   "source": [
    "m=sp.diag(sp.Matrix([[1,1,2],[3,6,8],[2,2,4]]))\n",
    "display(m.nullspace()[0]) # nullspace\n",
    "display(m.columnspace()[0]) # column space\n"
   ]
  },
  {
   "cell_type": "code",
   "execution_count": 29,
   "metadata": {},
   "outputs": [
    {
     "data": {
      "text/latex": [
       "$\\displaystyle \\left[\\begin{matrix}-4 & \\frac{1}{2} & \\frac{1}{2}\\\\-2 & \\frac{1}{4} - \\frac{\\sqrt{77}}{4} & \\frac{1}{4} + \\frac{\\sqrt{77}}{4}\\\\3 & 1 & 1\\end{matrix}\\right]$"
      ],
      "text/plain": [
       "Matrix([\n",
       "[-4,              1/2,              1/2],\n",
       "[-2, 1/4 - sqrt(77)/4, 1/4 + sqrt(77)/4],\n",
       "[ 3,                1,                1]])"
      ]
     },
     "metadata": {},
     "output_type": "display_data"
    },
    {
     "data": {
      "text/latex": [
       "$\\displaystyle \\left[\\begin{matrix}0 & 0 & 0\\\\0 & \\frac{11}{2} - \\frac{\\sqrt{77}}{2} & 0\\\\0 & 0 & \\frac{\\sqrt{77}}{2} + \\frac{11}{2}\\end{matrix}\\right]$"
      ],
      "text/plain": [
       "Matrix([\n",
       "[0,                 0,                 0],\n",
       "[0, 11/2 - sqrt(77)/2,                 0],\n",
       "[0,                 0, sqrt(77)/2 + 11/2]])"
      ]
     },
     "metadata": {},
     "output_type": "display_data"
    }
   ],
   "source": [
    "P, D = m.diagonalize()\n",
    "display(P)\n",
    "display(D)"
   ]
  },
  {
   "cell_type": "code",
   "execution_count": null,
   "metadata": {},
   "outputs": [
    {
     "data": {
      "text/latex": [
       "$\\displaystyle \\left[\\begin{matrix}\\frac{5}{18} & \\frac{1}{9} & - \\frac{1}{18}\\\\\\frac{1}{18} & \\frac{1}{18} & \\frac{1}{18}\\\\- \\frac{2}{9} & - \\frac{1}{18} & \\frac{1}{9}\\\\\\frac{1}{3} & \\frac{1}{6} & 0\\end{matrix}\\right]$"
      ],
      "text/plain": [
       "Matrix([\n",
       "[5/18,   1/9, -1/18],\n",
       "[1/18,  1/18,  1/18],\n",
       "[-2/9, -1/18,   1/9],\n",
       "[ 1/3,   1/6,     0]])"
      ]
     },
     "metadata": {},
     "output_type": "display_data"
    },
    {
     "ename": "",
     "evalue": "",
     "output_type": "error",
     "traceback": [
      "\u001b[1;31m在当前单元格或上一个单元格中执行代码时 Kernel 崩溃。\n",
      "\u001b[1;31m请查看单元格中的代码，以确定故障的可能原因。\n",
      "\u001b[1;31m单击<a href='https://aka.ms/vscodeJupyterKernelCrash'>此处</a>了解详细信息。\n",
      "\u001b[1;31m有关更多详细信息，请查看 Jupyter <a href='command:jupyter.viewOutput'>log</a>。"
     ]
    }
   ],
   "source": [
    "m=sp.Matrix([[1,0,-1,1],[0,2,2,2],[-1,4,5,3]])\n",
    "display(m.pinv())\n",
    "# display(m)"
   ]
  }
 ],
 "metadata": {
  "kernelspec": {
   "display_name": "ml_env",
   "language": "python",
   "name": "python3"
  },
  "language_info": {
   "codemirror_mode": {
    "name": "ipython",
    "version": 3
   },
   "file_extension": ".py",
   "mimetype": "text/x-python",
   "name": "python",
   "nbconvert_exporter": "python",
   "pygments_lexer": "ipython3",
   "version": "3.8.20"
  }
 },
 "nbformat": 4,
 "nbformat_minor": 2
}
